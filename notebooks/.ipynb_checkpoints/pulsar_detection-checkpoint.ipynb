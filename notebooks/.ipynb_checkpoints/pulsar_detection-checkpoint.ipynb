{
 "cells": [
  {
   "cell_type": "code",
   "execution_count": 1,
   "metadata": {},
   "outputs": [],
   "source": [
    "import numpy as np\n",
    "import pandas as pd\n",
    "import matplotlib.pyplot as plt\n",
    "import scipy\n",
    "import math\n",
    "from sklearn.model_selection import train_test_split\n",
    "from sklearn.preprocessing import StandardScaler\n",
    "from imblearn.over_sampling import SMOTE\n",
    "from sklearn.ensemble import RandomForestClassifier\n",
    "from sklearn.metrics import accuracy_score, precision_score, recall_score\n",
    "from sklearn.model_selection import cross_val_predict\n",
    "from sklearn.metrics import confusion_matrix ,f1_score\n",
    "from sklearn.svm import SVC\n",
    "from sklearn.linear_model import LogisticRegression\n",
    "from sklearn.ensemble import AdaBoostClassifier \n",
    "from sklearn.linear_model import SGDClassifier\n",
    "from sklearn.neighbors import KNeighborsClassifier\n",
    "from sklearn.ensemble import VotingClassifier\n",
    "import plotly.express as px"
   ]
  },
  {
   "cell_type": "code",
   "execution_count": 11,
   "metadata": {},
   "outputs": [
    {
     "name": "stdout",
     "output_type": "stream",
     "text": [
      "<class 'pandas.core.frame.DataFrame'>\n",
      "RangeIndex: 17898 entries, 0 to 17897\n",
      "Data columns (total 8 columns):\n",
      " #   Column  Non-Null Count  Dtype  \n",
      "---  ------  --------------  -----  \n",
      " 0   MIP     17898 non-null  float64\n",
      " 1   SDIP    17898 non-null  float64\n",
      " 2   KIP     17898 non-null  float64\n",
      " 3   SIP     17898 non-null  float64\n",
      " 4   MDM     17898 non-null  float64\n",
      " 5   SDDM    17898 non-null  float64\n",
      " 6   KDM     17898 non-null  float64\n",
      " 7   SDM     17898 non-null  float64\n",
      "dtypes: float64(8)\n",
      "memory usage: 1.1 MB\n"
     ]
    }
   ],
   "source": [
    "data = pd.read_csv(\"../Data/HTRU_2.csv\")\n",
    "x = data.iloc[:, 0:8]\n",
    "y = data.iloc[:, -1]\n",
    "x.info()"
   ]
  },
  {
   "cell_type": "code",
   "execution_count": 12,
   "metadata": {},
   "outputs": [
    {
     "data": {
      "text/plain": [
       "0        0\n",
       "1        0\n",
       "2        0\n",
       "3        0\n",
       "4        0\n",
       "        ..\n",
       "17893    0\n",
       "17894    0\n",
       "17895    0\n",
       "17896    0\n",
       "17897    0\n",
       "Name: CLASS, Length: 17898, dtype: int64"
      ]
     },
     "execution_count": 12,
     "metadata": {},
     "output_type": "execute_result"
    }
   ],
   "source": [
    "y"
   ]
  },
  {
   "cell_type": "code",
   "execution_count": 13,
   "metadata": {},
   "outputs": [],
   "source": [
    "x_train, x_test, y_train, y_test = train_test_split(x, y, test_size=0.2)"
   ]
  },
  {
   "cell_type": "code",
   "execution_count": 14,
   "metadata": {},
   "outputs": [],
   "source": [
    "standard_scale = StandardScaler()\n",
    "x_train_scaled = standard_scale.fit_transform(x_train)"
   ]
  },
  {
   "cell_type": "code",
   "execution_count": 15,
   "metadata": {},
   "outputs": [],
   "source": [
    "smt = SMOTE(sampling_strategy=0.5, random_state=42)\n",
    "x_train_sm, y_train_sm = smt.fit_sample(x_train_scaled, y_train)"
   ]
  },
  {
   "cell_type": "markdown",
   "metadata": {},
   "source": [
    "# Random Forest Classifier"
   ]
  },
  {
   "cell_type": "code",
   "execution_count": 16,
   "metadata": {},
   "outputs": [
    {
     "data": {
      "text/plain": [
       "RandomForestClassifier()"
      ]
     },
     "execution_count": 16,
     "metadata": {},
     "output_type": "execute_result"
    }
   ],
   "source": [
    "random_forest=RandomForestClassifier()\n",
    "random_forest.fit(x_train_sm, y_train_sm)"
   ]
  },
  {
   "cell_type": "code",
   "execution_count": 17,
   "metadata": {},
   "outputs": [
    {
     "data": {
      "text/plain": [
       "array([0.18622726, 0.03417498, 0.27607481, 0.20094187, 0.08066645,\n",
       "       0.09969421, 0.06608994, 0.05613047])"
      ]
     },
     "execution_count": 17,
     "metadata": {},
     "output_type": "execute_result"
    }
   ],
   "source": [
    "random_forest.feature_importances_"
   ]
  },
  {
   "cell_type": "code",
   "execution_count": 18,
   "metadata": {},
   "outputs": [],
   "source": [
    "y_train_pred_random_forest=cross_val_predict(random_forest, x_train_sm, y_train_sm, cv=5)"
   ]
  },
  {
   "cell_type": "code",
   "execution_count": 19,
   "metadata": {},
   "outputs": [
    {
     "data": {
      "text/plain": [
       "array([[12826,   168],\n",
       "       [  360,  6137]], dtype=int64)"
      ]
     },
     "execution_count": 19,
     "metadata": {},
     "output_type": "execute_result"
    }
   ],
   "source": [
    "confusion_matrix_random_forest = confusion_matrix(y_train_sm, y_train_pred_random_forest)\n",
    "\n",
    "confusion_matrix_random_forest"
   ]
  },
  {
   "cell_type": "code",
   "execution_count": 20,
   "metadata": {},
   "outputs": [
    {
     "name": "stdout",
     "output_type": "stream",
     "text": [
      "0.9729105741111282\n",
      "0.9733544805709754\n",
      "0.9445898106818532\n",
      "0.9587564443055773\n"
     ]
    }
   ],
   "source": [
    "# precision, accuracy and recall for random forest classifier\n",
    "\n",
    "print(accuracy_score(y_train_sm, y_train_pred_random_forest))\n",
    "print(precision_score(y_train_sm, y_train_pred_random_forest))\n",
    "print(recall_score(y_train_sm, y_train_pred_random_forest))\n",
    "print(f1_score(y_train_sm, y_train_pred_random_forest))"
   ]
  },
  {
   "cell_type": "code",
   "execution_count": 21,
   "metadata": {},
   "outputs": [],
   "source": [
    "y_test_pred_random_forest=random_forest.predict(standard_scale.fit_transform(x_test))"
   ]
  },
  {
   "cell_type": "code",
   "execution_count": 22,
   "metadata": {},
   "outputs": [
    {
     "name": "stdout",
     "output_type": "stream",
     "text": [
      "0.9787709497206704\n",
      "0.8722741433021807\n",
      "0.8888888888888888\n",
      "0.880503144654088\n"
     ]
    }
   ],
   "source": [
    "# precision, accuracy and recall for random forest classifier\n",
    "\n",
    "print(accuracy_score(y_test, y_test_pred_random_forest))\n",
    "print(precision_score(y_test, y_test_pred_random_forest))\n",
    "print(recall_score(y_test, y_test_pred_random_forest))\n",
    "print(f1_score(y_test, y_test_pred_random_forest))"
   ]
  },
  {
   "cell_type": "markdown",
   "metadata": {},
   "source": [
    "# Support Vector Machines"
   ]
  },
  {
   "cell_type": "code",
   "execution_count": 28,
   "metadata": {},
   "outputs": [
    {
     "data": {
      "text/plain": [
       "SVC(C=5, kernel='poly', probability=True)"
      ]
     },
     "execution_count": 28,
     "metadata": {},
     "output_type": "execute_result"
    }
   ],
   "source": [
    "gaussian_svm = SVC(kernel=\"poly\",degree=3, C=5, probability=True)\n",
    "gaussian_svm.fit(x_train_sm, y_train_sm)"
   ]
  },
  {
   "cell_type": "code",
   "execution_count": 29,
   "metadata": {},
   "outputs": [],
   "source": [
    "y_train_pred_svm=cross_val_predict(gaussian_svm, x_train_sm, y_train_sm, cv=5)"
   ]
  },
  {
   "cell_type": "code",
   "execution_count": 30,
   "metadata": {},
   "outputs": [
    {
     "name": "stdout",
     "output_type": "stream",
     "text": [
      "0.9442306705659023\n",
      "0.9780841286673736\n",
      "0.8517777435739572\n",
      "0.9105717811600165\n"
     ]
    }
   ],
   "source": [
    "print(accuracy_score(y_train_sm, y_train_pred_svm))\n",
    "print(precision_score(y_train_sm, y_train_pred_svm))\n",
    "print(recall_score(y_train_sm, y_train_pred_svm))\n",
    "print(f1_score(y_train_sm, y_train_pred_svm))"
   ]
  },
  {
   "cell_type": "code",
   "execution_count": 31,
   "metadata": {},
   "outputs": [
    {
     "name": "stdout",
     "output_type": "stream",
     "text": [
      "0.9804469273743017\n",
      "0.8990228013029316\n",
      "0.8761904761904762\n",
      "0.8874598070739549\n"
     ]
    }
   ],
   "source": [
    "y_gaussian_svm=gaussian_svm.predict(standard_scale.fit_transform(x_test))\n",
    "\n",
    "print(accuracy_score(y_test, y_gaussian_svm))\n",
    "print(precision_score(y_test, y_gaussian_svm))\n",
    "print(recall_score(y_test, y_gaussian_svm))\n",
    "print(f1_score(y_test, y_gaussian_svm))"
   ]
  },
  {
   "cell_type": "markdown",
   "metadata": {},
   "source": [
    "# Logistic Regression"
   ]
  },
  {
   "cell_type": "code",
   "execution_count": 32,
   "metadata": {},
   "outputs": [
    {
     "data": {
      "text/plain": [
       "LogisticRegression()"
      ]
     },
     "execution_count": 32,
     "metadata": {},
     "output_type": "execute_result"
    }
   ],
   "source": [
    "logistic_regression=LogisticRegression()\n",
    "logistic_regression.fit(x_train_sm, y_train_sm)"
   ]
  },
  {
   "cell_type": "code",
   "execution_count": 33,
   "metadata": {},
   "outputs": [],
   "source": [
    "y_train_pred_log=cross_val_predict(logistic_regression, x_train_sm, y_train_sm, cv=5)"
   ]
  },
  {
   "cell_type": "code",
   "execution_count": 34,
   "metadata": {},
   "outputs": [
    {
     "data": {
      "text/plain": [
       "array([[12812,   182],\n",
       "       [  714,  5783]], dtype=int64)"
      ]
     },
     "execution_count": 34,
     "metadata": {},
     "output_type": "execute_result"
    }
   ],
   "source": [
    "# log confusion matrix\n",
    "\n",
    "confusion_matrix_log = confusion_matrix(y_train_sm, y_train_pred_log)\n",
    "\n",
    "confusion_matrix_log"
   ]
  },
  {
   "cell_type": "code",
   "execution_count": 35,
   "metadata": {},
   "outputs": [
    {
     "name": "stdout",
     "output_type": "stream",
     "text": [
      "0.9540300651582782\n",
      "0.9694886839899414\n",
      "0.8901031245190087\n",
      "0.9281014283421603\n"
     ]
    }
   ],
   "source": [
    "# precision, accuracy and recall for log classifier\n",
    "\n",
    "print(accuracy_score(y_train_sm, y_train_pred_log))\n",
    "print(precision_score(y_train_sm, y_train_pred_log))\n",
    "print(recall_score(y_train_sm, y_train_pred_log))\n",
    "print(f1_score(y_train_sm, y_train_pred_log))"
   ]
  },
  {
   "cell_type": "code",
   "execution_count": 36,
   "metadata": {},
   "outputs": [
    {
     "name": "stdout",
     "output_type": "stream",
     "text": [
      "0.9768156424581006\n",
      "0.8473053892215568\n",
      "0.8984126984126984\n",
      "0.8721109399075501\n"
     ]
    }
   ],
   "source": [
    "y_logistic_regression=logistic_regression.predict(standard_scale.fit_transform(x_test))\n",
    "\n",
    "print(accuracy_score(y_test, y_logistic_regression))\n",
    "print(precision_score(y_test, y_logistic_regression))\n",
    "print(recall_score(y_test, y_logistic_regression))\n",
    "print(f1_score(y_test, y_logistic_regression))"
   ]
  },
  {
   "cell_type": "markdown",
   "metadata": {},
   "source": [
    "# Adaboost"
   ]
  },
  {
   "cell_type": "code",
   "execution_count": 23,
   "metadata": {},
   "outputs": [
    {
     "data": {
      "text/plain": [
       "AdaBoostClassifier(base_estimator=RandomForestClassifier(), learning_rate=0.5,\n",
       "                   n_estimators=200)"
      ]
     },
     "execution_count": 23,
     "metadata": {},
     "output_type": "execute_result"
    }
   ],
   "source": [
    "adaboost_classifier=AdaBoostClassifier(\n",
    "    RandomForestClassifier(), n_estimators=200, algorithm=\"SAMME.R\", learning_rate=0.5\n",
    ")\n",
    "\n",
    "adaboost_classifier.fit(x_train_sm, y_train_sm)"
   ]
  },
  {
   "cell_type": "code",
   "execution_count": 24,
   "metadata": {},
   "outputs": [],
   "source": [
    "# adaboost metrics\n",
    "\n",
    "y_train_pred_adaboost=cross_val_predict(adaboost_classifier, x_train_sm, y_train_sm, cv=5)"
   ]
  },
  {
   "cell_type": "code",
   "execution_count": 25,
   "metadata": {},
   "outputs": [
    {
     "data": {
      "text/plain": [
       "array([[12822,   172],\n",
       "       [  357,  6140]], dtype=int64)"
      ]
     },
     "execution_count": 25,
     "metadata": {},
     "output_type": "execute_result"
    }
   ],
   "source": [
    "# adaboost confusion matrix\n",
    "\n",
    "confusion_matrix_adaboost = confusion_matrix(y_train_sm, y_train_pred_adaboost)\n",
    "\n",
    "confusion_matrix_adaboost"
   ]
  },
  {
   "cell_type": "code",
   "execution_count": 26,
   "metadata": {},
   "outputs": [
    {
     "name": "stdout",
     "output_type": "stream",
     "text": [
      "0.972859268380278\n",
      "0.9727503168567807\n",
      "0.9450515622595044\n",
      "0.9587009134202514\n"
     ]
    }
   ],
   "source": [
    "# precision, accuracy and recall for adaboost classifier\n",
    "\n",
    "print(accuracy_score(y_train_sm, y_train_pred_adaboost))\n",
    "print(precision_score(y_train_sm, y_train_pred_adaboost))\n",
    "print(recall_score(y_train_sm, y_train_pred_adaboost))\n",
    "print(f1_score(y_train_sm, y_train_pred_adaboost))"
   ]
  },
  {
   "cell_type": "code",
   "execution_count": 27,
   "metadata": {},
   "outputs": [
    {
     "name": "stdout",
     "output_type": "stream",
     "text": [
      "0.9787709497206704\n",
      "0.8676923076923077\n",
      "0.8952380952380953\n",
      "0.88125\n"
     ]
    }
   ],
   "source": [
    "y_adaboost_classifier=adaboost_classifier.predict(standard_scale.fit_transform(x_test))\n",
    "\n",
    "print(accuracy_score(y_test, y_adaboost_classifier))\n",
    "print(precision_score(y_test, y_adaboost_classifier))\n",
    "print(recall_score(y_test, y_adaboost_classifier))\n",
    "print(f1_score(y_test, y_adaboost_classifier))"
   ]
  },
  {
   "cell_type": "markdown",
   "metadata": {},
   "source": [
    "# SGDC"
   ]
  },
  {
   "cell_type": "code",
   "execution_count": 37,
   "metadata": {},
   "outputs": [
    {
     "data": {
      "text/plain": [
       "SGDClassifier(random_state=42)"
      ]
     },
     "execution_count": 37,
     "metadata": {},
     "output_type": "execute_result"
    }
   ],
   "source": [
    "sgd_clf=SGDClassifier(random_state=42)\n",
    "sgd_clf.fit(x_train_sm, y_train_sm)"
   ]
  },
  {
   "cell_type": "code",
   "execution_count": 38,
   "metadata": {},
   "outputs": [],
   "source": [
    "y_train_pred_sgd_clf=cross_val_predict(sgd_clf, x_train_sm, y_train_sm, cv=5)"
   ]
  },
  {
   "cell_type": "code",
   "execution_count": 39,
   "metadata": {},
   "outputs": [
    {
     "data": {
      "text/plain": [
       "array([[12790,   204],\n",
       "       [  719,  5778]], dtype=int64)"
      ]
     },
     "execution_count": 39,
     "metadata": {},
     "output_type": "execute_result"
    }
   ],
   "source": [
    "# sgd_clf confusion matrix\n",
    "\n",
    "confusion_matrix_sgd_clf = confusion_matrix(y_train_sm, y_train_pred_sgd_clf)\n",
    "\n",
    "confusion_matrix_sgd_clf"
   ]
  },
  {
   "cell_type": "code",
   "execution_count": 40,
   "metadata": {},
   "outputs": [
    {
     "name": "stdout",
     "output_type": "stream",
     "text": [
      "0.9526448104253246\n",
      "0.9658976930792377\n",
      "0.8893335385562567\n",
      "0.9260357400432727\n"
     ]
    }
   ],
   "source": [
    "# precision, accuracy and recall for sgd_clf classifier\n",
    "\n",
    "print(accuracy_score(y_train_sm, y_train_pred_sgd_clf))\n",
    "print(precision_score(y_train_sm, y_train_pred_sgd_clf))\n",
    "print(recall_score(y_train_sm, y_train_pred_sgd_clf))\n",
    "print(f1_score(y_train_sm, y_train_pred_sgd_clf))"
   ]
  },
  {
   "cell_type": "code",
   "execution_count": 41,
   "metadata": {},
   "outputs": [
    {
     "name": "stdout",
     "output_type": "stream",
     "text": [
      "0.9782122905027933\n",
      "0.8691588785046729\n",
      "0.8857142857142857\n",
      "0.8773584905660377\n"
     ]
    }
   ],
   "source": [
    "y_sgd_clf=sgd_clf.predict(standard_scale.fit_transform(x_test))\n",
    "\n",
    "print(accuracy_score(y_test, y_sgd_clf))\n",
    "print(precision_score(y_test, y_sgd_clf))\n",
    "print(recall_score(y_test, y_sgd_clf))\n",
    "print(f1_score(y_test, y_sgd_clf))"
   ]
  },
  {
   "cell_type": "markdown",
   "metadata": {},
   "source": [
    "# K Neighbors"
   ]
  },
  {
   "cell_type": "code",
   "execution_count": 42,
   "metadata": {},
   "outputs": [
    {
     "data": {
      "text/plain": [
       "KNeighborsClassifier(n_neighbors=15)"
      ]
     },
     "execution_count": 42,
     "metadata": {},
     "output_type": "execute_result"
    }
   ],
   "source": [
    "k_neig=KNeighborsClassifier(n_neighbors=15)\n",
    "k_neig.fit(x_train_sm, y_train_sm)"
   ]
  },
  {
   "cell_type": "code",
   "execution_count": 43,
   "metadata": {},
   "outputs": [],
   "source": [
    "y_train_pred_k_neig=cross_val_predict(k_neig, x_train_sm, y_train_sm, cv=5)"
   ]
  },
  {
   "cell_type": "code",
   "execution_count": 44,
   "metadata": {},
   "outputs": [
    {
     "data": {
      "text/plain": [
       "array([[12732,   262],\n",
       "       [  469,  6028]], dtype=int64)"
      ]
     },
     "execution_count": 44,
     "metadata": {},
     "output_type": "execute_result"
    }
   ],
   "source": [
    "# k_neig confusion matrix\n",
    "\n",
    "confusion_matrix_k_neig = confusion_matrix(y_train_sm, y_train_pred_k_neig)\n",
    "\n",
    "confusion_matrix_k_neig"
   ]
  },
  {
   "cell_type": "code",
   "execution_count": 45,
   "metadata": {},
   "outputs": [
    {
     "name": "stdout",
     "output_type": "stream",
     "text": [
      "0.9624955107485507\n",
      "0.9583465818759936\n",
      "0.9278128366938587\n",
      "0.9428325643231407\n"
     ]
    }
   ],
   "source": [
    "# precision, accuracy and recall for k_neig classifier\n",
    "\n",
    "print(accuracy_score(y_train_sm, y_train_pred_k_neig))\n",
    "print(precision_score(y_train_sm, y_train_pred_k_neig))\n",
    "print(recall_score(y_train_sm, y_train_pred_k_neig))\n",
    "print(f1_score(y_train_sm, y_train_pred_k_neig))"
   ]
  },
  {
   "cell_type": "code",
   "execution_count": 46,
   "metadata": {},
   "outputs": [
    {
     "name": "stdout",
     "output_type": "stream",
     "text": [
      "0.9692737430167597\n",
      "0.7887323943661971\n",
      "0.8888888888888888\n",
      "0.835820895522388\n"
     ]
    }
   ],
   "source": [
    "y_neig=k_neig.predict(standard_scale.fit_transform(x_test))\n",
    "\n",
    "print(accuracy_score(y_test, y_neig))\n",
    "print(precision_score(y_test, y_neig))\n",
    "print(recall_score(y_test, y_neig))\n",
    "print(f1_score(y_test, y_neig))"
   ]
  },
  {
   "cell_type": "markdown",
   "metadata": {},
   "source": [
    "# Voting Classification"
   ]
  },
  {
   "cell_type": "code",
   "execution_count": 47,
   "metadata": {},
   "outputs": [
    {
     "data": {
      "text/plain": [
       "VotingClassifier(estimators=[('lr', LogisticRegression()),\n",
       "                             ('rf', RandomForestClassifier()),\n",
       "                             ('ab',\n",
       "                              AdaBoostClassifier(base_estimator=RandomForestClassifier(),\n",
       "                                                 learning_rate=0.5,\n",
       "                                                 n_estimators=200)),\n",
       "                             ('kn', KNeighborsClassifier(n_neighbors=15)),\n",
       "                             ('sm', SVC(C=5, kernel='poly', probability=True))],\n",
       "                 voting='soft')"
      ]
     },
     "execution_count": 47,
     "metadata": {},
     "output_type": "execute_result"
    }
   ],
   "source": [
    "voting_clf=VotingClassifier(\n",
    "    estimators=[('lr', logistic_regression), ('rf', random_forest), ('ab', adaboost_classifier), ('kn', k_neig), ('sm', gaussian_svm)], voting='soft'\n",
    ")\n",
    "\n",
    "voting_clf.fit(x_train_sm, y_train_sm)"
   ]
  },
  {
   "cell_type": "code",
   "execution_count": 48,
   "metadata": {},
   "outputs": [],
   "source": [
    "y_train_pred_voting_clf=cross_val_predict(voting_clf, x_train_sm, y_train_sm, cv=5)"
   ]
  },
  {
   "cell_type": "code",
   "execution_count": 49,
   "metadata": {},
   "outputs": [
    {
     "data": {
      "text/plain": [
       "array([[12851,   143],\n",
       "       [  576,  5921]], dtype=int64)"
      ]
     },
     "execution_count": 49,
     "metadata": {},
     "output_type": "execute_result"
    }
   ],
   "source": [
    "# voting_clf confusion matrix\n",
    "\n",
    "confusion_matrix_voting_clf = confusion_matrix(y_train_sm, y_train_pred_voting_clf)\n",
    "\n",
    "confusion_matrix_voting_clf"
   ]
  },
  {
   "cell_type": "code",
   "execution_count": 50,
   "metadata": {},
   "outputs": [
    {
     "name": "stdout",
     "output_type": "stream",
     "text": [
      "0.9631111795187522\n",
      "0.9764182058047494\n",
      "0.9113436970909651\n",
      "0.9427593344478943\n"
     ]
    }
   ],
   "source": [
    "# precision, accuracy and recall for voting_clf classifier\n",
    "\n",
    "print(accuracy_score(y_train_sm, y_train_pred_voting_clf))\n",
    "print(precision_score(y_train_sm, y_train_pred_voting_clf))\n",
    "print(recall_score(y_train_sm, y_train_pred_voting_clf))\n",
    "print(f1_score(y_train_sm, y_train_pred_voting_clf))"
   ]
  },
  {
   "cell_type": "code",
   "execution_count": 51,
   "metadata": {},
   "outputs": [],
   "source": [
    "y_test_pred_voting=voting_clf.predict(standard_scale.fit_transform(x_test))"
   ]
  },
  {
   "cell_type": "code",
   "execution_count": 52,
   "metadata": {},
   "outputs": [
    {
     "name": "stdout",
     "output_type": "stream",
     "text": [
      "0.9787709497206704\n",
      "0.8699690402476781\n",
      "0.8920634920634921\n",
      "0.8808777429467084\n"
     ]
    }
   ],
   "source": [
    "print(accuracy_score(y_test, y_test_pred_voting))\n",
    "print(precision_score(y_test, y_test_pred_voting))\n",
    "print(recall_score(y_test, y_test_pred_voting))\n",
    "print(f1_score(y_test, y_test_pred_voting))"
   ]
  },
  {
   "cell_type": "markdown",
   "metadata": {},
   "source": [
    "# saving the model"
   ]
  },
  {
   "cell_type": "code",
   "execution_count": 53,
   "metadata": {},
   "outputs": [],
   "source": [
    "import pickle \n",
    "\n",
    "pickle_out = open(\"classifier.pkl\", mode = \"wb\") \n",
    "pickle.dump(voting_clf, pickle_out) \n",
    "pickle_out.close()"
   ]
  },
  {
   "cell_type": "code",
   "execution_count": null,
   "metadata": {},
   "outputs": [],
   "source": []
  }
 ],
 "metadata": {
  "kernelspec": {
   "display_name": "Python 3",
   "language": "python",
   "name": "python3"
  },
  "language_info": {
   "codemirror_mode": {
    "name": "ipython",
    "version": 3
   },
   "file_extension": ".py",
   "mimetype": "text/x-python",
   "name": "python",
   "nbconvert_exporter": "python",
   "pygments_lexer": "ipython3",
   "version": "3.7.4"
  }
 },
 "nbformat": 4,
 "nbformat_minor": 4
}
