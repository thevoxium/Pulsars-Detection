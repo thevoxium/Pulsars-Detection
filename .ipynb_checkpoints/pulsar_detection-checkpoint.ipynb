{
 "cells": [
  {
   "cell_type": "code",
   "execution_count": 67,
   "metadata": {},
   "outputs": [],
   "source": [
    "import numpy as np\n",
    "import pandas as pd\n",
    "import matplotlib.pyplot as plt\n",
    "import scipy\n",
    "import math\n",
    "from sklearn.model_selection import train_test_split\n",
    "from sklearn.preprocessing import StandardScaler\n",
    "from imblearn.over_sampling import SMOTE\n",
    "from sklearn.ensemble import RandomForestClassifier\n",
    "from sklearn.metrics import accuracy_score, precision_score, recall_score\n",
    "from sklearn.model_selection import cross_val_predict\n",
    "from sklearn.metrics import confusion_matrix ,f1_score\n",
    "from sklearn.svm import SVC\n",
    "from sklearn.linear_model import LogisticRegression\n",
    "from sklearn.ensemble import AdaBoostClassifier \n",
    "from sklearn.linear_model import SGDClassifier\n",
    "from sklearn.neighbors import KNeighborsClassifier\n",
    "from sklearn.ensemble import VotingClassifier\n",
    "import plotly.express as px"
   ]
  },
  {
   "cell_type": "code",
   "execution_count": 2,
   "metadata": {},
   "outputs": [],
   "source": [
    "data = pd.read_csv(\"Data/HTRU_2.csv\")\n",
    "x = data.iloc[:, 0:7]\n",
    "y = data.iloc[:, -1]"
   ]
  },
  {
   "cell_type": "code",
   "execution_count": 4,
   "metadata": {},
   "outputs": [],
   "source": [
    "x_train, x_test, y_train, y_test = train_test_split(x, y, test_size=0.2)"
   ]
  },
  {
   "cell_type": "code",
   "execution_count": 6,
   "metadata": {},
   "outputs": [],
   "source": [
    "standard_scale = StandardScaler()\n",
    "x_train_scaled = standard_scale.fit_transform(x_train)"
   ]
  },
  {
   "cell_type": "code",
   "execution_count": 9,
   "metadata": {},
   "outputs": [],
   "source": [
    "smt = SMOTE(sampling_strategy=0.5, random_state=42)\n",
    "x_train_sm, y_train_sm = smt.fit_sample(x_train_scaled, y_train)"
   ]
  },
  {
   "cell_type": "markdown",
   "metadata": {},
   "source": [
    "# Random Forest Classifier"
   ]
  },
  {
   "cell_type": "code",
   "execution_count": 11,
   "metadata": {},
   "outputs": [
    {
     "data": {
      "text/plain": [
       "RandomForestClassifier()"
      ]
     },
     "execution_count": 11,
     "metadata": {},
     "output_type": "execute_result"
    }
   ],
   "source": [
    "random_forest=RandomForestClassifier()\n",
    "random_forest.fit(x_train_sm, y_train_sm)"
   ]
  },
  {
   "cell_type": "code",
   "execution_count": 12,
   "metadata": {},
   "outputs": [
    {
     "data": {
      "text/plain": [
       "array([0.19258324, 0.03999028, 0.33858919, 0.1715771 , 0.06283627,\n",
       "       0.13973173, 0.05469218])"
      ]
     },
     "execution_count": 12,
     "metadata": {},
     "output_type": "execute_result"
    }
   ],
   "source": [
    "random_forest.feature_importances_"
   ]
  },
  {
   "cell_type": "code",
   "execution_count": 17,
   "metadata": {},
   "outputs": [],
   "source": [
    "y_train_pred_random_forest=cross_val_predict(random_forest, x_train_sm, y_train_sm, cv=5)"
   ]
  },
  {
   "cell_type": "code",
   "execution_count": 18,
   "metadata": {},
   "outputs": [
    {
     "data": {
      "text/plain": [
       "array([[12840,   163],\n",
       "       [  327,  6174]], dtype=int64)"
      ]
     },
     "execution_count": 18,
     "metadata": {},
     "output_type": "execute_result"
    }
   ],
   "source": [
    "confusion_matrix_random_forest = confusion_matrix(y_train_sm, y_train_pred_random_forest)\n",
    "\n",
    "confusion_matrix_random_forest"
   ]
  },
  {
   "cell_type": "code",
   "execution_count": 19,
   "metadata": {},
   "outputs": [
    {
     "name": "stdout",
     "output_type": "stream",
     "text": [
      "0.9748769483182936\n",
      "0.9742780495502604\n",
      "0.9497000461467466\n",
      "0.9618320610687022\n"
     ]
    }
   ],
   "source": [
    "# precision, accuracy and recall for random forest classifier\n",
    "\n",
    "print(accuracy_score(y_train_sm, y_train_pred_random_forest))\n",
    "print(precision_score(y_train_sm, y_train_pred_random_forest))\n",
    "print(recall_score(y_train_sm, y_train_pred_random_forest))\n",
    "print(f1_score(y_train_sm, y_train_pred_random_forest))"
   ]
  },
  {
   "cell_type": "code",
   "execution_count": 20,
   "metadata": {},
   "outputs": [],
   "source": [
    "y_test_pred_random_forest=random_forest.predict(standard_scale.fit_transform(x_test))"
   ]
  },
  {
   "cell_type": "code",
   "execution_count": 21,
   "metadata": {},
   "outputs": [
    {
     "name": "stdout",
     "output_type": "stream",
     "text": [
      "0.9798882681564246\n",
      "0.8913043478260869\n",
      "0.8858024691358025\n",
      "0.8885448916408668\n"
     ]
    }
   ],
   "source": [
    "# precision, accuracy and recall for random forest classifier\n",
    "\n",
    "print(accuracy_score(y_test, y_test_pred_random_forest))\n",
    "print(precision_score(y_test, y_test_pred_random_forest))\n",
    "print(recall_score(y_test, y_test_pred_random_forest))\n",
    "print(f1_score(y_test, y_test_pred_random_forest))"
   ]
  },
  {
   "cell_type": "markdown",
   "metadata": {},
   "source": [
    "# Support Vector Machines"
   ]
  },
  {
   "cell_type": "code",
   "execution_count": 24,
   "metadata": {},
   "outputs": [
    {
     "data": {
      "text/plain": [
       "SVC(C=5, kernel='poly', probability=True)"
      ]
     },
     "execution_count": 24,
     "metadata": {},
     "output_type": "execute_result"
    }
   ],
   "source": [
    "gaussian_svm = SVC(kernel=\"poly\",degree=3, C=5, probability=True)\n",
    "gaussian_svm.fit(x_train_sm, y_train_sm)"
   ]
  },
  {
   "cell_type": "code",
   "execution_count": 25,
   "metadata": {},
   "outputs": [],
   "source": [
    "y_train_pred_svm=cross_val_predict(gaussian_svm, x_train_sm, y_train_sm, cv=5)"
   ]
  },
  {
   "cell_type": "code",
   "execution_count": 26,
   "metadata": {},
   "outputs": [
    {
     "name": "stdout",
     "output_type": "stream",
     "text": [
      "0.9467288761279737\n",
      "0.9766143106457242\n",
      "0.8607906475926781\n",
      "0.9150519172594228\n"
     ]
    }
   ],
   "source": [
    "print(accuracy_score(y_train_sm, y_train_pred_svm))\n",
    "print(precision_score(y_train_sm, y_train_pred_svm))\n",
    "print(recall_score(y_train_sm, y_train_pred_svm))\n",
    "print(f1_score(y_train_sm, y_train_pred_svm))"
   ]
  },
  {
   "cell_type": "code",
   "execution_count": 27,
   "metadata": {},
   "outputs": [
    {
     "name": "stdout",
     "output_type": "stream",
     "text": [
      "0.9793296089385475\n",
      "0.9084967320261438\n",
      "0.8580246913580247\n",
      "0.8825396825396825\n"
     ]
    }
   ],
   "source": [
    "y_gaussian_svm=gaussian_svm.predict(standard_scale.fit_transform(x_test))\n",
    "\n",
    "print(accuracy_score(y_test, y_gaussian_svm))\n",
    "print(precision_score(y_test, y_gaussian_svm))\n",
    "print(recall_score(y_test, y_gaussian_svm))\n",
    "print(f1_score(y_test, y_gaussian_svm))"
   ]
  },
  {
   "cell_type": "markdown",
   "metadata": {},
   "source": [
    "# Logistic Regression"
   ]
  },
  {
   "cell_type": "code",
   "execution_count": 34,
   "metadata": {},
   "outputs": [
    {
     "data": {
      "text/plain": [
       "LogisticRegression()"
      ]
     },
     "execution_count": 34,
     "metadata": {},
     "output_type": "execute_result"
    }
   ],
   "source": [
    "logistic_regression=LogisticRegression()\n",
    "logistic_regression.fit(x_train_sm, y_train_sm)"
   ]
  },
  {
   "cell_type": "code",
   "execution_count": 35,
   "metadata": {},
   "outputs": [],
   "source": [
    "y_train_pred_log=cross_val_predict(logistic_regression, x_train_sm, y_train_sm, cv=5)"
   ]
  },
  {
   "cell_type": "code",
   "execution_count": 36,
   "metadata": {},
   "outputs": [
    {
     "data": {
      "text/plain": [
       "array([[12825,   178],\n",
       "       [  721,  5780]], dtype=int64)"
      ]
     },
     "execution_count": 36,
     "metadata": {},
     "output_type": "execute_result"
    }
   ],
   "source": [
    "# log confusion matrix\n",
    "\n",
    "confusion_matrix_log = confusion_matrix(y_train_sm, y_train_pred_log)\n",
    "\n",
    "confusion_matrix_log"
   ]
  },
  {
   "cell_type": "code",
   "execution_count": 37,
   "metadata": {},
   "outputs": [
    {
     "name": "stdout",
     "output_type": "stream",
     "text": [
      "0.9539068908941756\n",
      "0.9701242027526016\n",
      "0.8890939855406861\n",
      "0.9278433261096397\n"
     ]
    }
   ],
   "source": [
    "# precision, accuracy and recall for log classifier\n",
    "\n",
    "print(accuracy_score(y_train_sm, y_train_pred_log))\n",
    "print(precision_score(y_train_sm, y_train_pred_log))\n",
    "print(recall_score(y_train_sm, y_train_pred_log))\n",
    "print(f1_score(y_train_sm, y_train_pred_log))"
   ]
  },
  {
   "cell_type": "code",
   "execution_count": 38,
   "metadata": {},
   "outputs": [
    {
     "name": "stdout",
     "output_type": "stream",
     "text": [
      "0.979608938547486\n",
      "0.8814589665653495\n",
      "0.8950617283950617\n",
      "0.888208269525268\n"
     ]
    }
   ],
   "source": [
    "y_logistic_regression=logistic_regression.predict(standard_scale.fit_transform(x_test))\n",
    "\n",
    "print(accuracy_score(y_test, y_logistic_regression))\n",
    "print(precision_score(y_test, y_logistic_regression))\n",
    "print(recall_score(y_test, y_logistic_regression))\n",
    "print(f1_score(y_test, y_logistic_regression))"
   ]
  },
  {
   "cell_type": "markdown",
   "metadata": {},
   "source": [
    "# Adaboost"
   ]
  },
  {
   "cell_type": "code",
   "execution_count": 40,
   "metadata": {},
   "outputs": [
    {
     "data": {
      "text/plain": [
       "AdaBoostClassifier(base_estimator=RandomForestClassifier(), learning_rate=0.5,\n",
       "                   n_estimators=200)"
      ]
     },
     "execution_count": 40,
     "metadata": {},
     "output_type": "execute_result"
    }
   ],
   "source": [
    "adaboost_classifier=AdaBoostClassifier(\n",
    "    RandomForestClassifier(), n_estimators=200, algorithm=\"SAMME.R\", learning_rate=0.5\n",
    ")\n",
    "\n",
    "adaboost_classifier.fit(x_train_sm, y_train_sm)"
   ]
  },
  {
   "cell_type": "code",
   "execution_count": 41,
   "metadata": {},
   "outputs": [],
   "source": [
    "# adaboost metrics\n",
    "\n",
    "y_train_pred_adaboost=cross_val_predict(adaboost_classifier, x_train_sm, y_train_sm, cv=5)"
   ]
  },
  {
   "cell_type": "code",
   "execution_count": 42,
   "metadata": {},
   "outputs": [
    {
     "data": {
      "text/plain": [
       "array([[12832,   171],\n",
       "       [  339,  6162]], dtype=int64)"
      ]
     },
     "execution_count": 42,
     "metadata": {},
     "output_type": "execute_result"
    }
   ],
   "source": [
    "# adaboost confusion matrix\n",
    "\n",
    "confusion_matrix_adaboost = confusion_matrix(y_train_sm, y_train_pred_adaboost)\n",
    "\n",
    "confusion_matrix_adaboost"
   ]
  },
  {
   "cell_type": "code",
   "execution_count": 43,
   "metadata": {},
   "outputs": [
    {
     "name": "stdout",
     "output_type": "stream",
     "text": [
      "0.9738515176374077\n",
      "0.9729985788725722\n",
      "0.9478541762805722\n",
      "0.9602618045815802\n"
     ]
    }
   ],
   "source": [
    "# precision, accuracy and recall for adaboost classifier\n",
    "\n",
    "print(accuracy_score(y_train_sm, y_train_pred_adaboost))\n",
    "print(precision_score(y_train_sm, y_train_pred_adaboost))\n",
    "print(recall_score(y_train_sm, y_train_pred_adaboost))\n",
    "print(f1_score(y_train_sm, y_train_pred_adaboost))"
   ]
  },
  {
   "cell_type": "code",
   "execution_count": 44,
   "metadata": {},
   "outputs": [
    {
     "name": "stdout",
     "output_type": "stream",
     "text": [
      "0.9807262569832402\n",
      "0.8899082568807339\n",
      "0.8981481481481481\n",
      "0.8940092165898618\n"
     ]
    }
   ],
   "source": [
    "y_adaboost_classifier=adaboost_classifier.predict(standard_scale.fit_transform(x_test))\n",
    "\n",
    "print(accuracy_score(y_test, y_adaboost_classifier))\n",
    "print(precision_score(y_test, y_adaboost_classifier))\n",
    "print(recall_score(y_test, y_adaboost_classifier))\n",
    "print(f1_score(y_test, y_adaboost_classifier))"
   ]
  },
  {
   "cell_type": "markdown",
   "metadata": {},
   "source": [
    "# SGDC"
   ]
  },
  {
   "cell_type": "code",
   "execution_count": 46,
   "metadata": {},
   "outputs": [
    {
     "data": {
      "text/plain": [
       "SGDClassifier(random_state=42)"
      ]
     },
     "execution_count": 46,
     "metadata": {},
     "output_type": "execute_result"
    }
   ],
   "source": [
    "sgd_clf=SGDClassifier(random_state=42)\n",
    "sgd_clf.fit(x_train_sm, y_train_sm)"
   ]
  },
  {
   "cell_type": "code",
   "execution_count": 47,
   "metadata": {},
   "outputs": [],
   "source": [
    "y_train_pred_sgd_clf=cross_val_predict(sgd_clf, x_train_sm, y_train_sm, cv=5)"
   ]
  },
  {
   "cell_type": "code",
   "execution_count": 48,
   "metadata": {},
   "outputs": [
    {
     "data": {
      "text/plain": [
       "array([[12802,   201],\n",
       "       [  724,  5777]], dtype=int64)"
      ]
     },
     "execution_count": 48,
     "metadata": {},
     "output_type": "execute_result"
    }
   ],
   "source": [
    "# sgd_clf confusion matrix\n",
    "\n",
    "confusion_matrix_sgd_clf = confusion_matrix(y_train_sm, y_train_pred_sgd_clf)\n",
    "\n",
    "confusion_matrix_sgd_clf"
   ]
  },
  {
   "cell_type": "code",
   "execution_count": 49,
   "metadata": {},
   "outputs": [
    {
     "name": "stdout",
     "output_type": "stream",
     "text": [
      "0.9525738310090238\n",
      "0.9663767146202743\n",
      "0.8886325180741425\n",
      "0.9258754707909287\n"
     ]
    }
   ],
   "source": [
    "# precision, accuracy and recall for sgd_clf classifier\n",
    "\n",
    "print(accuracy_score(y_train_sm, y_train_pred_sgd_clf))\n",
    "print(precision_score(y_train_sm, y_train_pred_sgd_clf))\n",
    "print(recall_score(y_train_sm, y_train_pred_sgd_clf))\n",
    "print(f1_score(y_train_sm, y_train_pred_sgd_clf))"
   ]
  },
  {
   "cell_type": "code",
   "execution_count": 50,
   "metadata": {},
   "outputs": [
    {
     "name": "stdout",
     "output_type": "stream",
     "text": [
      "0.9810055865921787\n",
      "0.9102564102564102\n",
      "0.8765432098765432\n",
      "0.8930817610062893\n"
     ]
    }
   ],
   "source": [
    "y_sgd_clf=sgd_clf.predict(standard_scale.fit_transform(x_test))\n",
    "\n",
    "print(accuracy_score(y_test, y_sgd_clf))\n",
    "print(precision_score(y_test, y_sgd_clf))\n",
    "print(recall_score(y_test, y_sgd_clf))\n",
    "print(f1_score(y_test, y_sgd_clf))"
   ]
  },
  {
   "cell_type": "markdown",
   "metadata": {},
   "source": [
    "# K Neighbors"
   ]
  },
  {
   "cell_type": "code",
   "execution_count": 53,
   "metadata": {},
   "outputs": [
    {
     "data": {
      "text/plain": [
       "KNeighborsClassifier(n_neighbors=15)"
      ]
     },
     "execution_count": 53,
     "metadata": {},
     "output_type": "execute_result"
    }
   ],
   "source": [
    "k_neig=KNeighborsClassifier(n_neighbors=15)\n",
    "k_neig.fit(x_train_sm, y_train_sm)"
   ]
  },
  {
   "cell_type": "code",
   "execution_count": 54,
   "metadata": {},
   "outputs": [],
   "source": [
    "y_train_pred_k_neig=cross_val_predict(k_neig, x_train_sm, y_train_sm, cv=5)"
   ]
  },
  {
   "cell_type": "code",
   "execution_count": 55,
   "metadata": {},
   "outputs": [
    {
     "data": {
      "text/plain": [
       "array([[12728,   275],\n",
       "       [  442,  6059]], dtype=int64)"
      ]
     },
     "execution_count": 55,
     "metadata": {},
     "output_type": "execute_result"
    }
   ],
   "source": [
    "# k_neig confusion matrix\n",
    "\n",
    "confusion_matrix_k_neig = confusion_matrix(y_train_sm, y_train_pred_k_neig)\n",
    "\n",
    "confusion_matrix_k_neig"
   ]
  },
  {
   "cell_type": "code",
   "execution_count": 56,
   "metadata": {},
   "outputs": [
    {
     "name": "stdout",
     "output_type": "stream",
     "text": [
      "0.9632383100902379\n",
      "0.9565835175244711\n",
      "0.9320104599292417\n",
      "0.9441371250486951\n"
     ]
    }
   ],
   "source": [
    "# precision, accuracy and recall for k_neig classifier\n",
    "\n",
    "print(accuracy_score(y_train_sm, y_train_pred_k_neig))\n",
    "print(precision_score(y_train_sm, y_train_pred_k_neig))\n",
    "print(recall_score(y_train_sm, y_train_pred_k_neig))\n",
    "print(f1_score(y_train_sm, y_train_pred_k_neig))"
   ]
  },
  {
   "cell_type": "code",
   "execution_count": 57,
   "metadata": {},
   "outputs": [
    {
     "name": "stdout",
     "output_type": "stream",
     "text": [
      "0.973463687150838\n",
      "0.8225352112676056\n",
      "0.9012345679012346\n",
      "0.8600883652430044\n"
     ]
    }
   ],
   "source": [
    "y_neig=k_neig.predict(standard_scale.fit_transform(x_test))\n",
    "\n",
    "print(accuracy_score(y_test, y_neig))\n",
    "print(precision_score(y_test, y_neig))\n",
    "print(recall_score(y_test, y_neig))\n",
    "print(f1_score(y_test, y_neig))"
   ]
  },
  {
   "cell_type": "markdown",
   "metadata": {},
   "source": [
    "# Voting Classification"
   ]
  },
  {
   "cell_type": "code",
   "execution_count": 61,
   "metadata": {},
   "outputs": [
    {
     "data": {
      "text/plain": [
       "VotingClassifier(estimators=[('lr', LogisticRegression()),\n",
       "                             ('rf', RandomForestClassifier()),\n",
       "                             ('ab',\n",
       "                              AdaBoostClassifier(base_estimator=RandomForestClassifier(),\n",
       "                                                 learning_rate=0.5,\n",
       "                                                 n_estimators=200)),\n",
       "                             ('kn', KNeighborsClassifier(n_neighbors=15)),\n",
       "                             ('sm', SVC(C=5, kernel='poly', probability=True))],\n",
       "                 voting='soft')"
      ]
     },
     "execution_count": 61,
     "metadata": {},
     "output_type": "execute_result"
    }
   ],
   "source": [
    "voting_clf=VotingClassifier(\n",
    "    estimators=[('lr', logistic_regression), ('rf', random_forest), ('ab', adaboost_classifier), ('kn', k_neig), ('sm', gaussian_svm)], voting='soft'\n",
    ")\n",
    "\n",
    "voting_clf.fit(x_train_sm, y_train_sm)"
   ]
  },
  {
   "cell_type": "code",
   "execution_count": 62,
   "metadata": {},
   "outputs": [],
   "source": [
    "y_train_pred_voting_clf=cross_val_predict(voting_clf, x_train_sm, y_train_sm, cv=5)"
   ]
  },
  {
   "cell_type": "code",
   "execution_count": 63,
   "metadata": {},
   "outputs": [
    {
     "data": {
      "text/plain": [
       "array([[12850,   153],\n",
       "       [  545,  5956]], dtype=int64)"
      ]
     },
     "execution_count": 63,
     "metadata": {},
     "output_type": "execute_result"
    }
   ],
   "source": [
    "# voting_clf confusion matrix\n",
    "\n",
    "confusion_matrix_voting_clf = confusion_matrix(y_train_sm, y_train_pred_voting_clf)\n",
    "\n",
    "confusion_matrix_voting_clf"
   ]
  },
  {
   "cell_type": "code",
   "execution_count": 64,
   "metadata": {},
   "outputs": [
    {
     "name": "stdout",
     "output_type": "stream",
     "text": [
      "0.9642124692370796\n",
      "0.9749549844491734\n",
      "0.9161667435779111\n",
      "0.9446471054718478\n"
     ]
    }
   ],
   "source": [
    "# precision, accuracy and recall for voting_clf classifier\n",
    "\n",
    "print(accuracy_score(y_train_sm, y_train_pred_voting_clf))\n",
    "print(precision_score(y_train_sm, y_train_pred_voting_clf))\n",
    "print(recall_score(y_train_sm, y_train_pred_voting_clf))\n",
    "print(f1_score(y_train_sm, y_train_pred_voting_clf))"
   ]
  },
  {
   "cell_type": "code",
   "execution_count": 65,
   "metadata": {},
   "outputs": [],
   "source": [
    "y_test_pred_voting=voting_clf.predict(standard_scale.fit_transform(x_test))"
   ]
  },
  {
   "cell_type": "code",
   "execution_count": 66,
   "metadata": {},
   "outputs": [
    {
     "name": "stdout",
     "output_type": "stream",
     "text": [
      "0.9798882681564246\n",
      "0.8865030674846626\n",
      "0.8919753086419753\n",
      "0.8892307692307693\n"
     ]
    }
   ],
   "source": [
    "print(accuracy_score(y_test, y_test_pred_voting))\n",
    "print(precision_score(y_test, y_test_pred_voting))\n",
    "print(recall_score(y_test, y_test_pred_voting))\n",
    "print(f1_score(y_test, y_test_pred_voting))"
   ]
  },
  {
   "cell_type": "markdown",
   "metadata": {},
   "source": [
    "# saving the model"
   ]
  },
  {
   "cell_type": "code",
   "execution_count": 2,
   "metadata": {},
   "outputs": [
    {
     "ename": "NameError",
     "evalue": "name 'adaboost_classifier' is not defined",
     "output_type": "error",
     "traceback": [
      "\u001b[1;31m---------------------------------------------------------------------------\u001b[0m",
      "\u001b[1;31mNameError\u001b[0m                                 Traceback (most recent call last)",
      "\u001b[1;32m<ipython-input-2-541ed3f3b24a>\u001b[0m in \u001b[0;36m<module>\u001b[1;34m\u001b[0m\n\u001b[0;32m      2\u001b[0m \u001b[1;33m\u001b[0m\u001b[0m\n\u001b[0;32m      3\u001b[0m \u001b[0mpickle_out\u001b[0m \u001b[1;33m=\u001b[0m \u001b[0mopen\u001b[0m\u001b[1;33m(\u001b[0m\u001b[1;34m\"classifier.pkl\"\u001b[0m\u001b[1;33m,\u001b[0m \u001b[0mmode\u001b[0m \u001b[1;33m=\u001b[0m \u001b[1;34m\"wb\"\u001b[0m\u001b[1;33m)\u001b[0m\u001b[1;33m\u001b[0m\u001b[1;33m\u001b[0m\u001b[0m\n\u001b[1;32m----> 4\u001b[1;33m \u001b[0mpickle\u001b[0m\u001b[1;33m.\u001b[0m\u001b[0mdump\u001b[0m\u001b[1;33m(\u001b[0m\u001b[0madaboost_classifier\u001b[0m\u001b[1;33m,\u001b[0m \u001b[0mpickle_out\u001b[0m\u001b[1;33m)\u001b[0m\u001b[1;33m\u001b[0m\u001b[1;33m\u001b[0m\u001b[0m\n\u001b[0m\u001b[0;32m      5\u001b[0m \u001b[0mpickle_out\u001b[0m\u001b[1;33m.\u001b[0m\u001b[0mclose\u001b[0m\u001b[1;33m(\u001b[0m\u001b[1;33m)\u001b[0m\u001b[1;33m\u001b[0m\u001b[1;33m\u001b[0m\u001b[0m\n",
      "\u001b[1;31mNameError\u001b[0m: name 'adaboost_classifier' is not defined"
     ]
    }
   ],
   "source": [
    "import pickle \n",
    "\n",
    "pickle_out = open(\"classifier.pkl\", mode = \"wb\") \n",
    "pickle.dump(adaboost_classifier, pickle_out) \n",
    "pickle_out.close()"
   ]
  },
  {
   "cell_type": "code",
   "execution_count": null,
   "metadata": {},
   "outputs": [],
   "source": []
  }
 ],
 "metadata": {
  "kernelspec": {
   "display_name": "Python 3",
   "language": "python",
   "name": "python3"
  },
  "language_info": {
   "codemirror_mode": {
    "name": "ipython",
    "version": 3
   },
   "file_extension": ".py",
   "mimetype": "text/x-python",
   "name": "python",
   "nbconvert_exporter": "python",
   "pygments_lexer": "ipython3",
   "version": "3.7.4"
  }
 },
 "nbformat": 4,
 "nbformat_minor": 4
}
